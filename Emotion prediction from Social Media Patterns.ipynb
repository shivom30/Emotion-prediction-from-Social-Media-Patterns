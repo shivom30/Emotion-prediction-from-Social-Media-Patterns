{
 "cells": [
  {
   "cell_type": "code",
   "execution_count": 1,
   "id": "cd983b41",
   "metadata": {},
   "outputs": [],
   "source": [
    "import pandas as pd\n",
    "import numpy as np\n",
    "import matplotlib.pyplot as plt\n",
    "import seaborn as sns\n",
    "from sklearn.model_selection import train_test_split, GridSearchCV\n",
    "from sklearn.preprocessing import StandardScaler\n",
    "from sklearn.ensemble import RandomForestClassifier\n",
    "from sklearn.metrics import accuracy_score, classification_report, confusion_matrix\n",
    "from imblearn.over_sampling import SMOTE\n",
    "import warnings\n",
    "warnings.filterwarnings('ignore')\n",
    "plt.style.use('ggplot')"
   ]
  },
  {
   "cell_type": "code",
   "execution_count": 3,
   "id": "92e80aa5",
   "metadata": {},
   "outputs": [
    {
     "data": {
      "text/html": [
       "<div>\n",
       "<style scoped>\n",
       "    .dataframe tbody tr th:only-of-type {\n",
       "        vertical-align: middle;\n",
       "    }\n",
       "\n",
       "    .dataframe tbody tr th {\n",
       "        vertical-align: top;\n",
       "    }\n",
       "\n",
       "    .dataframe thead th {\n",
       "        text-align: right;\n",
       "    }\n",
       "</style>\n",
       "<table border=\"1\" class=\"dataframe\">\n",
       "  <thead>\n",
       "    <tr style=\"text-align: right;\">\n",
       "      <th></th>\n",
       "      <th>User_ID</th>\n",
       "      <th>Age</th>\n",
       "      <th>Gender</th>\n",
       "      <th>Platform</th>\n",
       "      <th>Daily_Usage_Time (minutes)</th>\n",
       "      <th>Posts_Per_Day</th>\n",
       "      <th>Likes_Received_Per_Day</th>\n",
       "      <th>Comments_Received_Per_Day</th>\n",
       "      <th>Messages_Sent_Per_Day</th>\n",
       "      <th>Dominant_Emotion</th>\n",
       "    </tr>\n",
       "  </thead>\n",
       "  <tbody>\n",
       "    <tr>\n",
       "      <th>0</th>\n",
       "      <td>1</td>\n",
       "      <td>25</td>\n",
       "      <td>Female</td>\n",
       "      <td>Instagram</td>\n",
       "      <td>120.0</td>\n",
       "      <td>3.0</td>\n",
       "      <td>45.0</td>\n",
       "      <td>10.0</td>\n",
       "      <td>12.0</td>\n",
       "      <td>Happiness</td>\n",
       "    </tr>\n",
       "    <tr>\n",
       "      <th>1</th>\n",
       "      <td>2</td>\n",
       "      <td>30</td>\n",
       "      <td>Male</td>\n",
       "      <td>Twitter</td>\n",
       "      <td>90.0</td>\n",
       "      <td>5.0</td>\n",
       "      <td>20.0</td>\n",
       "      <td>25.0</td>\n",
       "      <td>30.0</td>\n",
       "      <td>Anger</td>\n",
       "    </tr>\n",
       "    <tr>\n",
       "      <th>2</th>\n",
       "      <td>3</td>\n",
       "      <td>22</td>\n",
       "      <td>Non-binary</td>\n",
       "      <td>Facebook</td>\n",
       "      <td>60.0</td>\n",
       "      <td>2.0</td>\n",
       "      <td>15.0</td>\n",
       "      <td>5.0</td>\n",
       "      <td>20.0</td>\n",
       "      <td>Neutral</td>\n",
       "    </tr>\n",
       "    <tr>\n",
       "      <th>3</th>\n",
       "      <td>4</td>\n",
       "      <td>28</td>\n",
       "      <td>Female</td>\n",
       "      <td>Instagram</td>\n",
       "      <td>200.0</td>\n",
       "      <td>8.0</td>\n",
       "      <td>100.0</td>\n",
       "      <td>30.0</td>\n",
       "      <td>50.0</td>\n",
       "      <td>Anxiety</td>\n",
       "    </tr>\n",
       "    <tr>\n",
       "      <th>4</th>\n",
       "      <td>5</td>\n",
       "      <td>33</td>\n",
       "      <td>Male</td>\n",
       "      <td>LinkedIn</td>\n",
       "      <td>45.0</td>\n",
       "      <td>1.0</td>\n",
       "      <td>5.0</td>\n",
       "      <td>2.0</td>\n",
       "      <td>10.0</td>\n",
       "      <td>Boredom</td>\n",
       "    </tr>\n",
       "  </tbody>\n",
       "</table>\n",
       "</div>"
      ],
      "text/plain": [
       "  User_ID Age      Gender   Platform  Daily_Usage_Time (minutes)  \\\n",
       "0       1  25      Female  Instagram                       120.0   \n",
       "1       2  30        Male    Twitter                        90.0   \n",
       "2       3  22  Non-binary   Facebook                        60.0   \n",
       "3       4  28      Female  Instagram                       200.0   \n",
       "4       5  33        Male   LinkedIn                        45.0   \n",
       "\n",
       "   Posts_Per_Day  Likes_Received_Per_Day  Comments_Received_Per_Day  \\\n",
       "0            3.0                    45.0                       10.0   \n",
       "1            5.0                    20.0                       25.0   \n",
       "2            2.0                    15.0                        5.0   \n",
       "3            8.0                   100.0                       30.0   \n",
       "4            1.0                     5.0                        2.0   \n",
       "\n",
       "   Messages_Sent_Per_Day Dominant_Emotion  \n",
       "0                   12.0        Happiness  \n",
       "1                   30.0            Anger  \n",
       "2                   20.0          Neutral  \n",
       "3                   50.0          Anxiety  \n",
       "4                   10.0          Boredom  "
      ]
     },
     "execution_count": 3,
     "metadata": {},
     "output_type": "execute_result"
    }
   ],
   "source": [
    "df_train = pd.read_csv('E:\\\\OneDrive\\\\Desktop\\\\train.csv')\n",
    "df_train.head()"
   ]
  },
  {
   "cell_type": "code",
   "execution_count": 4,
   "id": "6da657e0",
   "metadata": {},
   "outputs": [
    {
     "data": {
      "text/plain": [
       "28    92\n",
       "27    92\n",
       "29    90\n",
       "22    74\n",
       "26    66\n",
       "25    64\n",
       "24    64\n",
       "31    62\n",
       "33    56\n",
       "21    56\n",
       "30    48\n",
       "23    48\n",
       "35    38\n",
       "32    38\n",
       "34    36\n",
       "Name: Age, dtype: Int64"
      ]
     },
     "execution_count": 4,
     "metadata": {},
     "output_type": "execute_result"
    }
   ],
   "source": [
    "wrong_values = ['Male' , 'Female' , 'Non-binary' ,' işte mevcut veri kümesini 1000 satıra tamamlıyorum:']\n",
    "df_train = df_train[~df_train['Age'].isin(wrong_values)]\n",
    "df_train['Age'] = df_train['Age'].astype('Int64')\n",
    "df_train['Age'].value_counts()"
   ]
  },
  {
   "cell_type": "code",
   "execution_count": 5,
   "id": "923ee64a",
   "metadata": {},
   "outputs": [
    {
     "name": "stdout",
     "output_type": "stream",
     "text": [
      "       Gender  Count\n",
      "0      Female    344\n",
      "1        Male    332\n",
      "2  Non-binary    248\n"
     ]
    },
    {
     "data": {
      "image/png": "[encoded data removed]",
      "text/plain": [
       "<Figure size 640x480 with 1 Axes>"
      ]
     },
     "metadata": {},
     "output_type": "display_data"
    }
   ],
   "source": [
    "gender_cols = df_train['Gender'].value_counts().reset_index()\n",
    "gender_cols.columns = ['Gender','Count']\n",
    "print(gender_cols)\n",
    "fig , ax = plt.subplots()\n",
    "ax.bar(gender_cols['Gender'], gender_cols['Count'],color= ['pink','skyblue','grey'] \\\n",
    "      ,width = 0.5)\n",
    "ax.set_title(\"Distinct Count Distribution of Gender\")\n",
    "ax.set_xlabel(\"Gender\")\n",
    "ax.set_ylabel(\"Count\")\n",
    "plt.show()"
   ]
  },
  {
   "cell_type": "code",
   "execution_count": 7,
   "id": "7590011d",
   "metadata": {},
   "outputs": [],
   "source": [
    "train_df = pd.read_csv('E:\\\\OneDrive\\\\Desktop\\\\train.csv')\n",
    "test_df = pd.read_csv('E:\\\\OneDrive\\\\Desktop\\\\test.csv')"
   ]
  },
  {
   "cell_type": "code",
   "execution_count": 8,
   "id": "cc2870a3",
   "metadata": {},
   "outputs": [
    {
     "name": "stdout",
     "output_type": "stream",
     "text": [
      "Outliers count based on the 99th percentile:\n",
      "Daily_Usage_Time (minutes): 10\n",
      "Posts_Per_Day: 0\n",
      "Likes_Received_Per_Day: 9\n",
      "Comments_Received_Per_Day: 9\n",
      "Messages_Sent_Per_Day: 10\n",
      "Outliers count based on the 99th percentile:\n",
      "Daily_Usage_Time (minutes): 1\n",
      "Posts_Per_Day: 1\n",
      "Likes_Received_Per_Day: 2\n",
      "Comments_Received_Per_Day: 2\n",
      "Messages_Sent_Per_Day: 2\n",
      "Original dataset shape: (924, 10)\n",
      "Cleaned dataset shape: (971, 10)\n"
     ]
    }
   ],
   "source": [
    "def count_outliers(df):\n",
    "    numeric_cols = df.select_dtypes(include=[np.number]).columns\n",
    "    outliers = {}\n",
    "    for col in numeric_cols:\n",
    "        upper_limit = df[col].quantile(0.99)\n",
    "        outliers[col] = (df[col] > upper_limit).sum()\n",
    "    return outliers\n",
    "\n",
    "# Count outliers\n",
    "outliers_count_train = count_outliers(train_df.drop(columns = ['User_ID']))\n",
    "outliers_count_test = count_outliers(test_df.drop(columns = ['User_ID']))\n",
    "\n",
    "\n",
    "# Print the count of outliers for each numerical column\n",
    "print(\"Outliers count based on the 99th percentile:\")\n",
    "for col, count in outliers_count_train.items():\n",
    "    print(f\"{col}: {count}\")\n",
    "\n",
    "# Print the count of outliers for each numerical column\n",
    "print(\"Outliers count based on the 99th percentile:\")\n",
    "for col, count in outliers_count_test.items():\n",
    "    print(f\"{col}: {count}\")\n",
    "\n",
    "    \n",
    "# Function to remove outliers based on the 99th percentile\n",
    "def remove_outliers(df):\n",
    "    numeric_cols = df.select_dtypes(include=[np.number]).columns\n",
    "    for col in numeric_cols:\n",
    "        upper_limit = df[col].quantile(0.99)\n",
    "        df = df[df[col] <= upper_limit]\n",
    "    return df\n",
    "\n",
    "# Remove outliers\n",
    "df_cleaned_train = remove_outliers(train_df)\n",
    "df_cleaned_test = remove_outliers(test_df)\n",
    "\n",
    "\n",
    "# Check the shape of the cleaned dataset\n",
    "print(\"Original dataset shape:\", df_train.shape)\n",
    "print(\"Cleaned dataset shape:\", df_cleaned_train.shape)    \n",
    "\n",
    "\n",
    "train_df = df_cleaned_train\n",
    "test_df = df_cleaned_test"
   ]
  },
  {
   "cell_type": "code",
   "execution_count": 9,
   "id": "9a4099d7",
   "metadata": {},
   "outputs": [],
   "source": [
    "wrong_values = ['Male', 'Female', 'Non-binary', ' işte mevcut veri kümesini 1000 satıra tamamlıyorum:']\n",
    "train_df = train_df[~train_df['Age'].isin(wrong_values)]\n",
    "train_df['Age'] = train_df['Age'].astype('Int64')\n",
    "\n",
    "test_df = test_df[~test_df['Age'].isin(wrong_values)]\n",
    "test_df['Age'] = test_df['Age'].astype('Int64')\n",
    "train_df.fillna(method='ffill', inplace=True)\n",
    "test_df.fillna(method='ffill', inplace=True)\n",
    "\n",
    "# Separate features and target in the train dataset\n",
    "X_train = train_df.drop('Dominant_Emotion', axis=1)\n",
    "y_train = train_df['Dominant_Emotion']\n",
    "\n",
    "# Separate features and target in the test dataset\n",
    "X_test = test_df.drop('Dominant_Emotion', axis=1)\n",
    "y_test = test_df['Dominant_Emotion']\n",
    "X_train = pd.get_dummies(X_train, drop_first=True)\n",
    "X_test = pd.get_dummies(X_test, drop_first=True)\n",
    "\n",
    "# Align the columns of test data with training data (in case some categories are missing)\n",
    "X_test = X_test.reindex(columns=X_train.columns, fill_value=0)\n",
    "\n",
    "# Apply scaling\n",
    "scaler = StandardScaler()\n",
    "X_train_scaled = scaler.fit_transform(X_train)\n",
    "X_test_scaled = scaler.transform(X_test)"
   ]
  },
  {
   "cell_type": "code",
   "execution_count": 10,
   "id": "2f0f0b92",
   "metadata": {},
   "outputs": [],
   "source": [
    "# Train the RandomForestClassifier\n",
    "rf_classifier = RandomForestClassifier(n_estimators=100, random_state=42)\n",
    "rf_classifier.fit(X_train_scaled, y_train)\n",
    "\n",
    "# Get feature importances\n",
    "importances = rf_classifier.feature_importances_\n",
    "feature_names = X_train.columns\n",
    "feature_importances = pd.DataFrame({'Feature': feature_names, 'Importance': importances})"
   ]
  },
  {
   "cell_type": "code",
   "execution_count": 11,
   "id": "152adbfc",
   "metadata": {},
   "outputs": [
    {
     "name": "stdout",
     "output_type": "stream",
     "text": [
      "Top 10 Important Features:\n",
      "                        Feature  Importance\n",
      "0                           Age    0.113588\n",
      "1    Daily_Usage_Time (minutes)    0.111893\n",
      "3        Likes_Received_Per_Day    0.110366\n",
      "4     Comments_Received_Per_Day    0.105211\n",
      "5         Messages_Sent_Per_Day    0.100955\n",
      "2                 Posts_Per_Day    0.069723\n",
      "906            Platform_Twitter    0.030402\n",
      "902          Platform_Instagram    0.025527\n",
      "901           Gender_Non-binary    0.022604\n",
      "900                 Gender_Male    0.020376\n"
     ]
    },
    {
     "data": {
      "image/png": "[encoded data removed]",
      "text/plain": [
       "<Figure size 1000x600 with 1 Axes>"
      ]
     },
     "metadata": {},
     "output_type": "display_data"
    }
   ],
   "source": [
    "feature_importances = feature_importances.sort_values(by='Importance', ascending=False)\n",
    "top_10_features = feature_importances['Feature'].head(10).values\n",
    "\n",
    "# Print the top 10 features\n",
    "print(\"Top 10 Important Features:\")\n",
    "print(feature_importances.head(10))\n",
    "\n",
    "# Plot feature importances\n",
    "plt.figure(figsize=(10, 6))\n",
    "plt.title(\"Top 10 Feature Importances\")\n",
    "plt.barh(feature_importances.head(10)['Feature'], feature_importances.head(10)['Importance'], color='b', align='center')\n",
    "plt.gca().invert_yaxis()\n",
    "plt.xlabel('Relative Importance')\n",
    "plt.show()"
   ]
  },
  {
   "cell_type": "code",
   "execution_count": 12,
   "id": "12751393",
   "metadata": {},
   "outputs": [],
   "source": [
    "# Reduce the data to top 10 features\n",
    "X_train_top10 = X_train[top_10_features]\n",
    "X_test_top10 = X_test[top_10_features]\n",
    "\n",
    "# Apply scaling again to the reduced feature set\n",
    "X_train_top10_scaled = scaler.fit_transform(X_train_top10)\n",
    "X_test_top10_scaled = scaler.transform(X_test_top10)\n",
    "\n",
    "# Retrain the RandomForestClassifier with top 10 features\n",
    "rf_classifier_top10 = RandomForestClassifier(n_estimators=100, random_state=42)\n",
    "rf_classifier_top10.fit(X_train_top10_scaled, y_train)\n",
    "\n",
    "# Make predictions\n",
    "y_pred_top10 = rf_classifier_top10.predict(X_test_top10_scaled)"
   ]
  },
  {
   "cell_type": "code",
   "execution_count": 13,
   "id": "cd2705d9",
   "metadata": {},
   "outputs": [
    {
     "name": "stdout",
     "output_type": "stream",
     "text": [
      "\n",
      "Accuracy with Top 10 Features: 0.95\n",
      "Classification Report with Top 10 Features:\n",
      "              precision    recall  f1-score   support\n",
      "\n",
      "       Anger       0.90      1.00      0.95         9\n",
      "     Anxiety       1.00      0.95      0.98        21\n",
      "     Boredom       1.00      0.88      0.93        16\n",
      "   Happiness       0.86      1.00      0.92        12\n",
      "     Neutral       0.96      1.00      0.98        26\n",
      "     Sadness       0.92      0.86      0.89        14\n",
      "\n",
      "    accuracy                           0.95        98\n",
      "   macro avg       0.94      0.95      0.94        98\n",
      "weighted avg       0.95      0.95      0.95        98\n",
      "\n",
      "Confusion Matrix with Top 10 Features:\n",
      "[[ 9  0  0  0  0  0]\n",
      " [ 0 20  0  1  0  0]\n",
      " [ 0  0 14  0  1  1]\n",
      " [ 0  0  0 12  0  0]\n",
      " [ 0  0  0  0 26  0]\n",
      " [ 1  0  0  1  0 12]]\n"
     ]
    }
   ],
   "source": [
    "accuracy_top10 = accuracy_score(y_test, y_pred_top10)\n",
    "print(f\"\\nAccuracy with Top 10 Features: {accuracy_top10:.2f}\")\n",
    "print(\"Classification Report with Top 10 Features:\")\n",
    "print(classification_report(y_test, y_pred_top10))\n",
    "print(\"Confusion Matrix with Top 10 Features:\")\n",
    "print(confusion_matrix(y_test, y_pred_top10))"
   ]
  },
  {
   "cell_type": "code",
   "execution_count": null,
   "id": "83a8cd38",
   "metadata": {},
   "outputs": [],
   "source": []
  }
 ],
 "metadata": {
  "kernelspec": {
   "display_name": "Python 3 (ipykernel)",
   "language": "python",
   "name": "python3"
  },
  "language_info": {
   "codemirror_mode": {
    "name": "ipython",
    "version": 3
   },
   "file_extension": ".py",
   "mimetype": "text/x-python",
   "name": "python",
   "nbconvert_exporter": "python",
   "pygments_lexer": "ipython3",
   "version": "3.8.8"
  }
 },
 "nbformat": 4,
 "nbformat_minor": 5
}
